{
  "nbformat": 4,
  "nbformat_minor": 0,
  "metadata": {
    "colab": {
      "provenance": [],
      "authorship_tag": "ABX9TyMzwlvTMxEm9yBA4sG3UH2z",
      "include_colab_link": true
    },
    "kernelspec": {
      "name": "python3",
      "display_name": "Python 3"
    },
    "language_info": {
      "name": "python"
    }
  },
  "cells": [
    {
      "cell_type": "markdown",
      "metadata": {
        "id": "view-in-github",
        "colab_type": "text"
      },
      "source": [
        "<a href=\"https://colab.research.google.com/github/lorenzrossi/AMD-ComicsFaces/blob/main/Data_preparation.ipynb\" target=\"_parent\"><img src=\"https://colab.research.google.com/assets/colab-badge.svg\" alt=\"Open In Colab\"/></a>"
      ]
    },
    {
      "cell_type": "markdown",
      "source": [],
      "metadata": {
        "id": "I1gP-D7sWKdd"
      }
    },
    {
      "cell_type": "code",
      "source": [
        "import os\n",
        "from os import listdir\n",
        "import pandas as pd\n",
        "# Basic packages\n",
        "import numpy as np\n",
        "import matplotlib.pyplot as plt\n",
        "import seaborn as sns\n",
        "import random\n",
        "import pickle\n",
        "\n",
        "# Image preprocessing\n",
        "import pathlib\n",
        "import PIL\n",
        "import PIL.Image\n",
        "import cv2\n",
        "\n",
        "from google.colab import drive\n",
        "drive.mount('/content/drive')\n",
        "\n",
        "from google.colab import files\n",
        "\n",
        "uploaded = files.upload()\n",
        "\n",
        "for fn in uploaded.keys():\n",
        "  print('User uploaded file \"{name}\" with length {length} bytes'.format(\n",
        "      name=fn, length=len(uploaded[fn])))\n",
        "  \n",
        "# Then move kaggle.json into the folder where the API expects to find it.\n",
        "!mkdir -p ~/.kaggle/ && mv kaggle.json ~/.kaggle/ && chmod 600 ~/.kaggle/kaggle.json"
      ],
      "metadata": {
        "id": "qlyuVq8lBIU7"
      },
      "execution_count": null,
      "outputs": []
    },
    {
      "cell_type": "code",
      "source": [
        "!pip install kaggle\n",
        "import kaggle\n",
        "from kaggle.api.kaggle_api_extended import KaggleApi\n",
        "api = KaggleApi()\n",
        "api.authenticate()"
      ],
      "metadata": {
        "id": "tbzx8aYFBQxU"
      },
      "execution_count": null,
      "outputs": []
    },
    {
      "cell_type": "code",
      "source": [
        "# usare il link di kaggle per scaricare le immagini\n",
        "\n",
        "!kaggle datasets download -d defileroff/comic-faces-paired-synthetic-v2\n",
        "with zipfile.ZipFile('comic-faces-paired-synthetic-v2.zip','r') as zipref:\n",
        "     zipref.extractall()\n",
        "!rm -rf /content/face2comics_v2.0.0_by_Sxela/face2comics_v2.0.0_by_Sxela/samples"
      ],
      "metadata": {
        "id": "tIBVndCPBYzf"
      },
      "execution_count": null,
      "outputs": []
    },
    {
      "cell_type": "code",
      "execution_count": null,
      "metadata": {
        "id": "L8cP3Kq5ohHr"
      },
      "outputs": [],
      "source": [
        "dir = \"/content/face2comics_v2.0.0_by_Sxela/face2comics_v2.0.0_by_Sxela\"\n",
        "\n",
        "\n",
        "# I define some parameters in order resize image in an uniform way and I set 3 as number of channels of the image, since I want RGB images\n",
        "img_width = 100\n",
        "img_height = 100\n",
        "img_size = (img_width, img_height)\n",
        "channels = 3\n",
        "\n",
        "# Pets is the list in which alle the images will be stored\n",
        "pics = []\n",
        "\n",
        "# I define the two categories of pets ( related to the sub-directories)\n",
        "categories = ['comics','faces']\n",
        "\n",
        "# I create a funciotn in order to load the data, transform the into array, assign them to a class and store them in the pets list\n",
        "def create_data():\n",
        "\n",
        "# the function iterates throught the two sub-directories\n",
        "    for category in categories:\n",
        "        path = os.path.join(dir, category)\n",
        "\n",
        "# assign 0 to cat and 1 to dog, according to the index of the categories\n",
        "        pic_class = categories.index(category)\n",
        "\n",
        "# the function then iterates through each image in both the folders. I used the opencv (cv2 when imported) package to read and load them. IMREAD_COLOR keeps the color in the image, whereas IMREAD_GRAYSCALE would turn them into grayscale images.\n",
        "# The function resize the images as defined by the previous parameters and finally appends the array of the image, together with the class value (creating a sub-list of two values for each image), to the pets list.\n",
        "# The function skips those images which seem broken.\n",
        "        for img in os.listdir(path):\n",
        "            try:\n",
        "                img_array = cv2.imread(os.path.join(path,img), cv2.IMREAD_RGB)\n",
        "                new_array = cv2.resize(img_array, img_size)\n",
        "                pets.append([new_array, pet_class])\n",
        "            except Exception as e:\n",
        "                pass\n",
        "\n",
        "create_data()\n",
        "\n",
        "print(len(pics))\n",
        "\n",
        "# since the previous function iterates linearly through the two sub-directories, iìI shuffle the data in order to mix shuffle the order of the images\n",
        "random.shuffle(pics)\n",
        "\n",
        "for sample in pics[:9]:\n",
        "    print(sample[1])\n",
        "\n",
        "# split the data arrays and the labels for the classification task\n",
        "\n",
        "X = []\n",
        "y = []\n",
        "\n",
        "for image, label in pets:\n",
        "    X.append(image)\n",
        "    y.append(label)\n",
        "\n",
        "X = np.array(X).reshape(-1, img_width, img_height, channels)\n",
        "\n",
        "# Saving the pickles in the apposite folder\n",
        "\n",
        "pickle_out = open('/content/drive/MyDrive/ComicsFaces/Pickles/X.pickle','wb')\n",
        "pickle.dump(X, pickle_out)\n",
        "pickle_out.close()\n",
        "\n",
        "pickle_out = open('/content/drive/MyDrive/ComicsFaces/Pickles/y.pickle','wb')\n",
        "pickle.dump(y, pickle_out)\n",
        "pickle_out.close()\n",
        "\n",
        "pickle_in = open('/content/drive/MyDrive/ComicsFaces/Pickles/X.pickle','rb')\n",
        "X = pickle.load(pickle_in)\n",
        "\n",
        "pickle_in = open('/content/drive/MyDrive/ComicsFaces/Pickles/y.pickle','rb')\n",
        "y = pickle.load(pickle_in)"
      ]
    }
  ]
}